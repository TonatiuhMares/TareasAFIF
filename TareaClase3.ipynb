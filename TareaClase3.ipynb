{
  "nbformat": 4,
  "nbformat_minor": 0,
  "metadata": {
    "colab": {
      "name": "TareaClase3.ipynb",
      "provenance": [],
      "authorship_tag": "ABX9TyOqZn1ZrXdoHNDcfDdvKDyi",
      "include_colab_link": true
    },
    "kernelspec": {
      "name": "python3",
      "display_name": "Python 3"
    }
  },
  "cells": [
    {
      "cell_type": "markdown",
      "metadata": {
        "id": "view-in-github",
        "colab_type": "text"
      },
      "source": [
        "<a href=\"https://colab.research.google.com/github/TonatiuhMares/TareasAFIF/blob/main/TareaClase3.ipynb\" target=\"_parent\"><img src=\"https://colab.research.google.com/assets/colab-badge.svg\" alt=\"Open In Colab\"/></a>"
      ]
    },
    {
      "cell_type": "code",
      "metadata": {
        "colab": {
          "base_uri": "https://localhost:8080/"
        },
        "id": "N3I68CKJuWAL",
        "outputId": "ee968398-4cd8-44db-b8bd-23f7b4496a3e"
      },
      "source": [
        "Vehículos = [\n",
        "    {\n",
        "     'No._Vehículo' : '1',\n",
        "     'Tipo de vehiculo': input(\"Tipo: \").capitalize(),\n",
        "     'Marca':input(\"Marca: \").upper(),\n",
        "     'Puertas':input(\"¿Cuántas puertas tiene?: \"),\n",
        "     'Placas':input(\"Placas: \").upper(),\n",
        "     'Verificación_Reciente':input(\"¿El auto tiene verificación?\"),\n",
        "    },\n",
        "\n",
        "    {\n",
        "     'No._Vehículo' : '2',\n",
        "     'Tipo de vehiculo': input(\"Tipo: \").capitalize(),\n",
        "     'Marca':input(\"Marca: \").upper(),\n",
        "     'Puertas':input(\"¿Cuántas puertas tiene?: \"),\n",
        "     'Placas':input(\"Placas: \").upper(),\n",
        "     'Verificación_Reciente':input(\"¿El auto tiene verificación?\"),\n",
        "    },\n",
        "\n",
        "    {\n",
        "     'No._Vehículo' : '3',\n",
        "     'Tipo de vehiculo': input(\"Tipo: \").capitalize(),\n",
        "     'Marca':input(\"Marca\").upper(),\n",
        "     'Puertas':input(\"¿Cuántas puertas tiene?: \"),\n",
        "     'Placas':input(\"Placas: \").upper(),\n",
        "     'Verificación_Reciente':input(\"¿El auto tiene verificación?\"),\n",
        "     }\n",
        "]"
      ],
      "execution_count": 1,
      "outputs": [
        {
          "output_type": "stream",
          "text": [
            "Tipo: Mini\n",
            "Marca: bmw\n",
            "¿Cuántas puertas tiene?: 3\n",
            "Placas: gad3781\n",
            "¿El auto tiene verificación?Si\n",
            "Tipo: Couple\n",
            "Marca: Audi\n",
            "¿Cuántas puertas tiene?: 5\n",
            "Placas: gsh32234\n",
            "¿El auto tiene verificación?Si\n",
            "Tipo: truck\n",
            "Marcachevrolet\n",
            "¿Cuántas puertas tiene?: 3\n",
            "Placas: ahd26282\n",
            "¿El auto tiene verificación?No\n"
          ],
          "name": "stdout"
        }
      ]
    },
    {
      "cell_type": "code",
      "metadata": {
        "colab": {
          "base_uri": "https://localhost:8080/"
        },
        "id": "mW7x_w4BudVn",
        "outputId": "3c8306f9-ac08-434d-9ec4-4f94a2961421"
      },
      "source": [
        "Vehículos[0].update({'No. Propietarios':input('Introduce el numero de dueños: ')})\n",
        "Vehículos "
      ],
      "execution_count": 2,
      "outputs": [
        {
          "output_type": "stream",
          "text": [
            "Introduce el numero de dueños: 3\n"
          ],
          "name": "stdout"
        },
        {
          "output_type": "execute_result",
          "data": {
            "text/plain": [
              "[{'Marca': 'BMW',\n",
              "  'No. Propietarios': '3',\n",
              "  'No._Vehículo': '1',\n",
              "  'Placas': 'GAD3781',\n",
              "  'Puertas': '3',\n",
              "  'Tipo de vehiculo': 'Mini',\n",
              "  'Verificación_Reciente': 'Si'},\n",
              " {'Marca': 'AUDI',\n",
              "  'No._Vehículo': '2',\n",
              "  'Placas': 'GSH32234',\n",
              "  'Puertas': '5',\n",
              "  'Tipo de vehiculo': 'Couple',\n",
              "  'Verificación_Reciente': 'Si'},\n",
              " {'Marca': 'CHEVROLET',\n",
              "  'No._Vehículo': '3',\n",
              "  'Placas': 'AHD26282',\n",
              "  'Puertas': '3',\n",
              "  'Tipo de vehiculo': 'Truck',\n",
              "  'Verificación_Reciente': 'No'}]"
            ]
          },
          "metadata": {
            "tags": []
          },
          "execution_count": 2
        }
      ]
    }
  ]
}